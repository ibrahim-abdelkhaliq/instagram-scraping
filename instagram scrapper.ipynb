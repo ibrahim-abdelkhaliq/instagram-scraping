{
 "cells": [
  {
   "cell_type": "code",
   "execution_count": 39,
   "id": "a3a8f606",
   "metadata": {},
   "outputs": [],
   "source": [
    "import os \n",
    "\n",
    "os.chdir(r\"C:\\Users\\Lenovo\\Desktop\\AI Course\\Training\\instagram scrapper\")\n",
    "\n",
    "\n",
    "from selenium import webdriver\n",
    "from selenium.webdriver.common.keys import Keys\n",
    "from selenium.webdriver.support import expected_conditions as EC\n",
    "from selenium.webdriver.common.by import By\n",
    "from selenium.webdriver.support.wait import WebDriverWait\n"
   ]
  },
  {
   "cell_type": "code",
   "execution_count": 40,
   "id": "a0cc397b",
   "metadata": {
    "scrolled": true
   },
   "outputs": [],
   "source": [
    "driver = webdriver.Chrome('chromedriver.exe')\n",
    "\n",
    "driver.get(\"https://www.instagram.com/\")"
   ]
  },
  {
   "cell_type": "code",
   "execution_count": 41,
   "id": "17dfc490",
   "metadata": {
    "scrolled": true
   },
   "outputs": [],
   "source": [
    "username = WebDriverWait(driver, 10).until(EC.element_to_be_clickable((By.CSS_SELECTOR, \"input[name='username']\")))\n",
    "password = WebDriverWait(driver, 10).until(EC.element_to_be_clickable((By.CSS_SELECTOR, \"input[name='password']\")))\n",
    "\n",
    "username.clear()\n",
    "username.send_keys(\"01028547428\")\n",
    "password.clear()\n",
    "password.send_keys(\"blablabla\")\n",
    "\n",
    "button = WebDriverWait(driver, 2).until(EC.element_to_be_clickable((By.CSS_SELECTOR, \"button[type='submit']\"))).click()\n",
    "\n"
   ]
  },
  {
   "cell_type": "code",
   "execution_count": 42,
   "id": "98b10a90",
   "metadata": {},
   "outputs": [],
   "source": [
    "not_now = WebDriverWait(driver, 10).until(EC.element_to_be_clickable((By.XPATH, '//button[contains(text(), \"Not Now\")]'))).click()\n",
    "not_now2 = WebDriverWait(driver, 10).until(EC.element_to_be_clickable((By.XPATH, '//button[contains(text(), \"Not Now\")]'))).click()\n"
   ]
  },
  {
   "cell_type": "code",
   "execution_count": 47,
   "id": "ceca772e",
   "metadata": {
    "scrolled": true
   },
   "outputs": [],
   "source": [
    "import time\n",
    "\n",
    "searchbox = WebDriverWait(driver, 10).until(EC.element_to_be_clickable((By.XPATH, \"//input[@placeholder='Search']\")))\n",
    "searchbox.clear()\n",
    "\n",
    "keyword = \"#lion\"\n",
    "searchbox.send_keys(keyword)\n",
    "\n",
    "time.sleep(5)\n",
    "searchbox.send_keys(Keys.ENTER)\n",
    "time.sleep(5)\n",
    "searchbox.send_keys(Keys.ENTER)\n",
    "time.sleep(5)"
   ]
  },
  {
   "cell_type": "code",
   "execution_count": 48,
   "id": "bd368ce4",
   "metadata": {},
   "outputs": [
    {
     "name": "stdout",
     "output_type": "stream",
     "text": [
      "['https://instagram.fcai20-5.fna.fbcdn.net/v/t51.2885-15/e35/243283266_1332020240550496_8541724260809922419_n.jpg?_nc_ht=instagram.fcai20-5.fna.fbcdn.net&_nc_cat=104&_nc_ohc=CLV7ZAhQzlEAX-Sc0wi&edm=ABZsPhsBAAAA&ccb=7-4&oh=0bfe4467be7472eddcc52ee3c6a9f7ee&oe=615CFD83&_nc_sid=4efc9f&ig_cache_key=MjY3Mzk0NjAxMDU3OTQ4NDU0OQ%3D%3D.2-ccb7-4', 'https://instagram.fcai20-5.fna.fbcdn.net/v/t51.2885-15/e35/243283266_1332020240550496_8541724260809922419_n.jpg?_nc_ht=instagram.fcai20-5.fna.fbcdn.net&_nc_cat=104&_nc_ohc=CLV7ZAhQzlEAX-Sc0wi&edm=ABZsPhsBAAAA&ccb=7-4&oh=0bfe4467be7472eddcc52ee3c6a9f7ee&oe=615CFD83&_nc_sid=4efc9f&ig_cache_key=MjY3Mzk0NjAxMDU3OTQ4NDU0OQ%3D%3D.2-ccb7-4', 'https://instagram.fcai20-5.fna.fbcdn.net/v/t51.2885-15/e35/243281453_4488178977915749_2980829895320103194_n.jpg?_nc_ht=instagram.fcai20-5.fna.fbcdn.net&_nc_cat=105&_nc_ohc=y7in3-KJ700AX-UhCv1&edm=ABZsPhsBAAAA&ccb=7-4&oh=913edc8a5038bf7ff98ace8a7aceb31a&oe=615D54A1&_nc_sid=4efc9f&ig_cache_key=MjY3Mzc2NDE3MTk3OTgwMTg2Ng%3D%3D.2-ccb7-4', 'https://scontent-hbe1-1.cdninstagram.com/v/t51.2885-15/e35/243109745_4436766183070362_3558303694757276165_n.webp.jpg?_nc_ht=scontent-hbe1-1.cdninstagram.com&_nc_cat=106&_nc_ohc=fvdEPgz5kqUAX8Wh8bh&tn=PW2yEQxVchQnHCdf&edm=ABZsPhsBAAAA&ccb=7-4&oh=fd068b456526a25ed4563f2d81938f6c&oe=615C8E4E&_nc_sid=4efc9f&ig_cache_key=MjY3MzY4NDgwNTQxNTQxMTM1Nw%3D%3D.2-ccb7-4', 'https://instagram.fcai20-5.fna.fbcdn.net/v/t51.2885-15/e35/243415396_4327123707356056_370295073086406119_n.jpg?_nc_ht=instagram.fcai20-5.fna.fbcdn.net&_nc_cat=104&_nc_ohc=dyW0HSwbaagAX9_VwFG&edm=ABZsPhsBAAAA&ccb=7-4&oh=d1a0973e6528f066b6ba36872cf14cb5&oe=615DB3A7&_nc_sid=4efc9f&ig_cache_key=MjY3NDIyMDE1MjEyNDE2Nzk0Mw%3D%3D.2-ccb7-4', 'https://instagram.fcai20-5.fna.fbcdn.net/v/t51.2885-15/e35/243450743_391851675893928_8989541591270422591_n.jpg?_nc_ht=instagram.fcai20-5.fna.fbcdn.net&_nc_cat=100&_nc_ohc=OimJlLKL-skAX9beAHV&edm=ABZsPhsBAAAA&ccb=7-4&oh=0ae5996797a44bcc67f9b346715588e0&oe=615D89D6&_nc_sid=4efc9f&ig_cache_key=MjY3MzQ1MjY0MTY3OTk0OTE5Nw%3D%3D.2-ccb7-4', 'https://scontent-hbe1-1.cdninstagram.com/v/t51.2885-15/e35/243543239_823637594972711_5339215095272205372_n.jpg?_nc_ht=scontent-hbe1-1.cdninstagram.com&_nc_cat=111&_nc_ohc=coG6H6iqwdYAX_-j1v_&edm=ABZsPhsBAAAA&ccb=7-4&oh=f2dcadd798db4d2b599a6de9a935d7e3&oe=615E0B26&_nc_sid=4efc9f&ig_cache_key=MjY3NDIzNzkyNTE3ODg2ODEzNw%3D%3D.2-ccb7-4', 'https://instagram.fcai20-5.fna.fbcdn.net/v/t51.2885-15/e35/243742227_110506068060521_5093549184578823192_n.jpg?_nc_ht=instagram.fcai20-5.fna.fbcdn.net&_nc_cat=105&_nc_ohc=R4F9WnWHwlUAX-Qay1N&edm=ABZsPhsBAAAA&ccb=7-4&oh=e57186e0fde24cec0b76aece17269eca&oe=615C4CE8&_nc_sid=4efc9f&ig_cache_key=MjY3MzkyMDY1MjgxNjU1OTI0MA%3D%3D.2-ccb7-4', 'https://scontent-hbe1-1.cdninstagram.com/v/t51.2885-15/e35/243670133_538911983867742_8073948765548791691_n.jpg?_nc_ht=scontent-hbe1-1.cdninstagram.com&_nc_cat=106&_nc_ohc=TbxlHfCwkowAX_9VEa0&edm=ABZsPhsBAAAA&ccb=7-4&oh=7b94ea7baeba12fa60a2848acaca12c3&oe=615CDBA3&_nc_sid=4efc9f&ig_cache_key=MjY3MzY5NTQ0OTAyNDI1OTMzNQ%3D%3D.2-ccb7-4', 'https://instagram.fcai20-5.fna.fbcdn.net/v/t51.2885-15/e35/243275800_383175353296236_5496574410251663666_n.jpg?_nc_ht=instagram.fcai20-5.fna.fbcdn.net&_nc_cat=100&_nc_ohc=mJKd6RKlMFQAX_BTxet&edm=ABZsPhsBAAAA&ccb=7-4&oh=4491d361cbaeb7d564cf3aa558445dd4&oe=615D8A3E&_nc_sid=4efc9f&ig_cache_key=MjY3NDIxMjQ2MTA2NDI1MTIwNg%3D%3D.2-ccb7-4', 'https://scontent-hbe1-1.cdninstagram.com/v/t51.2885-15/e35/243669824_185139050427694_4173968838955088768_n.jpg?_nc_ht=scontent-hbe1-1.cdninstagram.com&_nc_cat=110&_nc_ohc=jUWEzJ6i0wkAX9klXEX&edm=ABZsPhsBAAAA&ccb=7-4&oh=f8b1db6b25270505a1afa678b7260fc3&oe=615CD5C7&_nc_sid=4efc9f&ig_cache_key=MjY3NDQ3OTEzNzE0MTM0NzM0OA%3D%3D.2-ccb7-4', 'https://scontent-hbe1-1.cdninstagram.com/v/t51.2885-15/e35/243727977_1554506844891311_4920213287780544160_n.jpg?_nc_ht=scontent-hbe1-1.cdninstagram.com&_nc_cat=111&_nc_ohc=74xlilb4LnEAX8qb3ca&edm=ABZsPhsBAAAA&ccb=7-4&oh=c13ea5f4e87fac07b5c5a878e994ae02&oe=615C3494&_nc_sid=4efc9f&ig_cache_key=MjY3NDQ3ODM1MjA1OTg4NTgzOA%3D%3D.2-ccb7-4', 'https://instagram.fcai20-5.fna.fbcdn.net/v/t51.2885-15/e35/243997383_381575073610946_2741777699280186197_n.jpg?_nc_ht=instagram.fcai20-5.fna.fbcdn.net&_nc_cat=102&_nc_ohc=Sgq2t77Ao4EAX996TBL&edm=ABZsPhsBAAAA&ccb=7-4&oh=03b7bd06f2e751b6f31a35f4e13e3ff8&oe=615CD813&_nc_sid=4efc9f&ig_cache_key=MjY3NDQ3ODA4MDIxODg2MjU2Ng%3D%3D.2-ccb7-4', 'https://scontent-hbe1-1.cdninstagram.com/v/t51.2885-15/e35/243708040_118178727267535_3694352710052802600_n.jpg?_nc_ht=scontent-hbe1-1.cdninstagram.com&_nc_cat=107&_nc_ohc=RCYSXp1yOlsAX-Q3zBT&tn=PW2yEQxVchQnHCdf&edm=ABZsPhsBAAAA&ccb=7-4&oh=29187c5bcabc75ca1e089326cea95cfb&oe=615CF2D2&_nc_sid=4efc9f&ig_cache_key=MjY3NDQ3Nzc0OTYxMDgzNTgwMg%3D%3D.2-ccb7-4', 'https://instagram.fcai20-5.fna.fbcdn.net/v/t51.2885-15/e35/243345066_289261326072108_1787617442205118245_n.jpg?_nc_ht=instagram.fcai20-5.fna.fbcdn.net&_nc_cat=100&_nc_ohc=ZTm8OasZimcAX9L1-0s&edm=ABZsPhsBAAAA&ccb=7-4&oh=8ad3e1b11efe2bd168a56b00e9436ff7&oe=615D6F53&_nc_sid=4efc9f&ig_cache_key=MjY3NDQ3NzAyOTU3Mzg3OTkwNg%3D%3D.2-ccb7-4', 'https://scontent-hbe1-1.cdninstagram.com/v/t51.2885-15/e35/243469634_884537602181841_2945627605525084141_n.webp.jpg?_nc_ht=scontent-hbe1-1.cdninstagram.com&_nc_cat=109&_nc_ohc=fUZX71XduDcAX9XLdj9&tn=PW2yEQxVchQnHCdf&edm=ABZsPhsBAAAA&ccb=7-4&oh=c653f8cb2edc2963c9d6f11c019ba5d6&oe=615D7265&_nc_sid=4efc9f&ig_cache_key=MjY3NDQ3Njc3OTUyNjQ0NjcwNg%3D%3D.2-ccb7-4', 'https://instagram.fcai20-5.fna.fbcdn.net/v/t51.2885-15/e35/243997394_395676228628553_883190451536645055_n.webp.jpg?_nc_ht=instagram.fcai20-5.fna.fbcdn.net&_nc_cat=105&_nc_ohc=VqGIBf_p5AwAX_iFpyU&edm=ABZsPhsBAAAA&ccb=7-4&oh=b90606cbf0e6896da63e0fce000bbc9d&oe=615C5129&_nc_sid=4efc9f&ig_cache_key=MjY3NDQ3NjUwODE1NDkwMzUzNA%3D%3D.2-ccb7-4', 'https://instagram.fcai20-5.fna.fbcdn.net/v/t51.2885-15/e35/243691816_449207319803657_2958283318587613306_n.webp.jpg?_nc_ht=instagram.fcai20-5.fna.fbcdn.net&_nc_cat=105&_nc_ohc=70qqw0jRxVEAX9TkERg&edm=ABZsPhsBAAAA&ccb=7-4&oh=7ff614cb5612fd56adb935401a372405&oe=615D315A&_nc_sid=4efc9f&ig_cache_key=MjY3NDQ3NTcwOTk0NTI0MDQxMg%3D%3D.2-ccb7-4', 'https://instagram.fcai20-5.fna.fbcdn.net/v/t51.2885-15/e35/243487580_2662939137341381_615989737920824312_n.webp.jpg?_nc_ht=instagram.fcai20-5.fna.fbcdn.net&_nc_cat=105&_nc_ohc=LcDgL2kb7PQAX98e27L&edm=ABZsPhsBAAAA&ccb=7-4&oh=50ec0f660d2c3ccf58fa727e192c6896&oe=615D1886&_nc_sid=4efc9f&ig_cache_key=MjY3NDQ3NDc0MzQ0NDEwMTE3Nw%3D%3D.2-ccb7-4', 'https://instagram.fcai20-5.fna.fbcdn.net/v/t51.2885-15/e35/243395529_215084914027409_6748174728257234353_n.jpg?_nc_ht=instagram.fcai20-5.fna.fbcdn.net&_nc_cat=105&_nc_ohc=x9-pCg0QbC4AX89-rPq&tn=PW2yEQxVchQnHCdf&edm=ABZsPhsBAAAA&ccb=7-4&oh=f2455d173988796e7cd10dc124c9bd5d&oe=615DFE8C&_nc_sid=4efc9f&ig_cache_key=MjY3NDQ3NDY4NTA5ODI5MzkzOA%3D%3D.2-ccb7-4', 'https://scontent-hbe1-1.cdninstagram.com/v/t51.2885-15/e35/244273291_446017636884813_1072449118947483114_n.jpg?_nc_ht=scontent-hbe1-1.cdninstagram.com&_nc_cat=109&_nc_ohc=t85QiYe4OzUAX8apMWY&edm=ABZsPhsBAAAA&ccb=7-4&oh=65b3174e8fdf4cf0a47486f724abaec1&oe=615D83E2&_nc_sid=4efc9f&ig_cache_key=MjY3NDQ3NDE1NjU2Njg4NjkwMA%3D%3D.2-ccb7-4', 'https://instagram.fcai20-5.fna.fbcdn.net/v/t51.2885-15/e35/243748581_399253561590424_4000768008621327903_n.jpg?_nc_ht=instagram.fcai20-5.fna.fbcdn.net&_nc_cat=104&_nc_ohc=6gGugxPaZacAX-Z2b-e&edm=ABZsPhsBAAAA&ccb=7-4&oh=0c0397a661e2a6c2544be713249d6c1b&oe=615CFC12&_nc_sid=4efc9f&ig_cache_key=MjY3NDQ3MzE2MTEwMDA4ODU1MA%3D%3D.2-ccb7-4', 'https://instagram.fcai20-5.fna.fbcdn.net/v/t51.2885-15/e35/243698245_1770887353102299_8477953907563625754_n.jpg?_nc_ht=instagram.fcai20-5.fna.fbcdn.net&_nc_cat=103&_nc_ohc=ZMJ3uri0a8YAX9Y9r49&edm=ABZsPhsBAAAA&ccb=7-4&oh=b5c37d36ceb30d3eaa3289644135f453&oe=615C5B06&_nc_sid=4efc9f&ig_cache_key=MjY3NDQ3Mjg2NzE3ODI0OTYyMQ%3D%3D.2-ccb7-4', 'https://scontent-hbe1-1.cdninstagram.com/v/t51.2885-15/e35/243609987_382684463334896_7685698187654266973_n.jpg?_nc_ht=scontent-hbe1-1.cdninstagram.com&_nc_cat=108&_nc_ohc=CERswHrFewQAX_ZC35-&edm=ABZsPhsBAAAA&ccb=7-4&oh=e74d8cb59b4c449dfa8fdbf2d79a82de&oe=615D96ED&_nc_sid=4efc9f&ig_cache_key=MjY3NDQ3MjY1MjQ4OTM5OTcwOA%3D%3D.2-ccb7-4', 'https://scontent-hbe1-1.cdninstagram.com/v/t51.2885-15/e35/243382795_185630396980942_8849546545809387543_n.jpg?_nc_ht=scontent-hbe1-1.cdninstagram.com&_nc_cat=110&_nc_ohc=OQVc24MKE1gAX8ImPUx&edm=ABZsPhsBAAAA&ccb=7-4&oh=fd798b04dda67991874e1c7af6de23ec&oe=615E0E2C&_nc_sid=4efc9f&ig_cache_key=MjY3NDQ3MjU1MTM5NzUzMDg1MA%3D%3D.2-ccb7-4', 'https://instagram.fcai20-5.fna.fbcdn.net/v/t51.2885-15/e35/243644299_352081656606099_5333983156204643266_n.jpg?_nc_ht=instagram.fcai20-5.fna.fbcdn.net&_nc_cat=103&_nc_ohc=7guGDaQQorIAX_ostUl&edm=ABZsPhsBAAAA&ccb=7-4&oh=11f962a04d18f920698fbab44692247f&oe=615C7E57&_nc_sid=4efc9f&ig_cache_key=MjY3NDQ3MjIxNTI4NDQ2MDg0Nw%3D%3D.2-ccb7-4', 'https://instagram.fcai20-5.fna.fbcdn.net/v/t51.2885-15/e35/243414968_216491410454356_2067497316757177648_n.webp.jpg?_nc_ht=instagram.fcai20-5.fna.fbcdn.net&_nc_cat=104&_nc_ohc=MteGd0oyiuAAX_JZUo6&edm=ABZsPhsBAAAA&ccb=7-4&oh=8f467238d655506714ce069f911dfb02&oe=615C3D1C&_nc_sid=4efc9f&ig_cache_key=MjY3NDQ3MTU2ODA1Mjk4MTMwOQ%3D%3D.2-ccb7-4', 'https://scontent-hbe1-1.cdninstagram.com/v/t51.2885-15/e35/244338625_388078889717574_8153209957950279578_n.jpg?_nc_ht=scontent-hbe1-1.cdninstagram.com&_nc_cat=106&_nc_ohc=F8-zgLNaWMYAX9DC0yz&edm=ABZsPhsBAAAA&ccb=7-4&oh=ed1e727308ac1eeec23660c48552f99d&oe=615CC27D&_nc_sid=4efc9f&ig_cache_key=MjY3NDQ3MTQ4MDk0NjU5OTY3OA%3D%3D.2-ccb7-4', 'https://instagram.fcai20-5.fna.fbcdn.net/v/t51.2885-15/e35/243586625_520878345683760_3791399789639644543_n.jpg?_nc_ht=instagram.fcai20-5.fna.fbcdn.net&_nc_cat=100&_nc_ohc=Gw-RY4kFQnMAX_Nkhak&tn=PW2yEQxVchQnHCdf&edm=ABZsPhsBAAAA&ccb=7-4&oh=dc2f061ff38de59cea844ccdef6cdc18&oe=615DF300&_nc_sid=4efc9f&ig_cache_key=MjY3NDQ3MTQxNTQ4NzY3NDY2Mg%3D%3D.2-ccb7-4', 'https://instagram.fcai20-5.fna.fbcdn.net/v/t51.2885-15/e35/243779369_280819117196429_4714769556040485804_n.webp.jpg?_nc_ht=instagram.fcai20-5.fna.fbcdn.net&_nc_cat=105&_nc_ohc=hQznlvcFy7UAX-YPNOs&edm=ABZsPhsBAAAA&ccb=7-4&oh=c4f15586bdc964967eb388488f329884&oe=615D997C&_nc_sid=4efc9f&ig_cache_key=MjY3NDQ3MTIwODYyNjE5OTA3NA%3D%3D.2-ccb7-4', 'https://instagram.fcai20-5.fna.fbcdn.net/v/t51.2885-15/e35/243392539_2729661297331981_4071029925908738077_n.jpg?_nc_ht=instagram.fcai20-5.fna.fbcdn.net&_nc_cat=101&_nc_ohc=wcPFQpVuIa0AX_q1qeu&edm=ABZsPhsBAAAA&ccb=7-4&oh=a530a4e004e3b923564a1e64ddd2b97f&oe=615D9BD9&_nc_sid=4efc9f&ig_cache_key=MjY3NDQ3MTAxNDU3OTQyMjIyNA%3D%3D.2-ccb7-4', 'https://instagram.fcai20-5.fna.fbcdn.net/v/t51.2885-15/e35/243987528_414716750077392_7976345797509059466_n.webp.jpg?_nc_ht=instagram.fcai20-5.fna.fbcdn.net&_nc_cat=100&_nc_ohc=USxK5k4xbyYAX-5JAsQ&edm=ABZsPhsBAAAA&ccb=7-4&oh=8d8dcf44a047c618ba2509bd10407c1f&oe=615CB269&_nc_sid=4efc9f&ig_cache_key=MjY3NDQ3MDc4NjIwMTUxNDY3Nw%3D%3D.2-ccb7-4', 'https://instagram.fcai20-5.fna.fbcdn.net/v/t51.2885-15/e35/243609983_151238610541693_244572447801264937_n.jpg?_nc_ht=instagram.fcai20-5.fna.fbcdn.net&_nc_cat=101&_nc_ohc=hUJN_Kao1WkAX9iQK7U&edm=ABZsPhsBAAAA&ccb=7-4&oh=1b7ebdc24c114ffa9bb42505e7a8b6d6&oe=615CC01B&_nc_sid=4efc9f&ig_cache_key=MjY3NDQ3MDY4NDU4MjY4Mjk4Ng%3D%3D.2-ccb7-4', 'https://instagram.fcai20-5.fna.fbcdn.net/v/t51.2885-15/e35/244049749_3464915916966816_4081941281233923017_n.jpg?_nc_ht=instagram.fcai20-5.fna.fbcdn.net&_nc_cat=100&_nc_ohc=_exYTq-5Os4AX-QD5WG&edm=ABZsPhsBAAAA&ccb=7-4&oh=dd488ca62b9bd0cd0816a6055ed33fcd&oe=615D6E5B&_nc_sid=4efc9f&ig_cache_key=MjY3NDQ3MDYwMzIxODgyMjc1MA%3D%3D.2-ccb7-4', 'https://scontent-hbe1-1.cdninstagram.com/v/t51.2885-15/e35/243686683_562364435042935_2459601214759767715_n.webp.jpg?_nc_ht=scontent-hbe1-1.cdninstagram.com&_nc_cat=107&_nc_ohc=1u88e-TctOEAX_On2C0&edm=ABZsPhsBAAAA&ccb=7-4&oh=648e88f086d2eff29dba4e137e10e31b&oe=615CC37B&_nc_sid=4efc9f&ig_cache_key=MjY3NDQ3MDU4NDc2NTc3ODAyOA%3D%3D.2-ccb7-4', 'https://instagram.fcai20-5.fna.fbcdn.net/v/t51.2885-15/e35/243653580_565318177922441_832643473236229694_n.jpg?_nc_ht=instagram.fcai20-5.fna.fbcdn.net&_nc_cat=105&_nc_ohc=vKfwzZxUpl4AX-oZkkm&edm=ABZsPhsBAAAA&ccb=7-4&oh=b882b8e356aad241076bc4ab9df6b9d5&oe=615E16F4&_nc_sid=4efc9f&ig_cache_key=MjY3NDQ3MDQ3OTMyNzU2MTQ2Mw%3D%3D.2-ccb7-4', 'https://scontent-hbe1-1.cdninstagram.com/v/t51.2885-15/e35/243392529_1118036348726937_8457170949613821158_n.jpg?_nc_ht=scontent-hbe1-1.cdninstagram.com&_nc_cat=109&_nc_ohc=Byamw9R2WwYAX-qMZMp&edm=ABZsPhsBAAAA&ccb=7-4&oh=bc2e25ffcaa7e7dabb620d839051e773&oe=615CC69B&_nc_sid=4efc9f&ig_cache_key=MjY3NDQ2OTg1NzI3MDMxMjU1MQ%3D%3D.2-ccb7-4', 'https://scontent-hbe1-1.cdninstagram.com/v/t51.2885-15/e35/243960877_659702328253975_4447926536093526874_n.webp.jpg?_nc_ht=scontent-hbe1-1.cdninstagram.com&_nc_cat=107&_nc_ohc=ENYg5TJl6JIAX-hFX-u&edm=ABZsPhsBAAAA&ccb=7-4&oh=b8606c4eb5fb7fd2fbe4c8132ccc0ff6&oe=615D9788&_nc_sid=4efc9f&ig_cache_key=MjY3NDQ2OTczODQ1NjY0MTA1NA%3D%3D.2-ccb7-4', 'https://scontent-hbe1-1.cdninstagram.com/v/t51.2885-15/e35/243475541_942363040031672_1526683522110137884_n.jpg?_nc_ht=scontent-hbe1-1.cdninstagram.com&_nc_cat=108&_nc_ohc=VeGJ-3ypTs0AX9bAEXh&edm=ABZsPhsBAAAA&ccb=7-4&oh=370c4bce5b9451f648efd49ac34ce330&oe=615CA6F3&_nc_sid=4efc9f&ig_cache_key=MjY3NDQ2OTUxMDU0NjUzMTkyNA%3D%3D.2-ccb7-4', 'https://scontent-hbe1-1.cdninstagram.com/v/t51.2885-15/e35/243792918_605811790553121_1896257677344675764_n.webp.jpg?_nc_ht=scontent-hbe1-1.cdninstagram.com&_nc_cat=109&_nc_ohc=a3-KQDXCyygAX_gf7jB&edm=ABZsPhsBAAAA&ccb=7-4&oh=c528aa00608d5879066be7d0d8d107ae&oe=615E2961&_nc_sid=4efc9f&ig_cache_key=MjY3NDQ2OTIyNTYwMTQ5MzU2NA%3D%3D.2-ccb7-4', 'https://www.instagram.com/static/images/web/mobile_nav_type_logo.png/735145cfe0a4.png', 'https://scontent-fco2-1.cdninstagram.com/v/t51.2885-19/44884218_345707102882519_2446069589734326272_n.jpg?_nc_ht=scontent-fco2-1.cdninstagram.com&_nc_ohc=JxxLiF2u0bkAX9rA1b8&edm=AL4D0a4BAAAA&ccb=7-4&oh=b04adf41e2a4c9fe9fb3e30ebf5c4721&oe=615D068F&_nc_sid=712cc3&ig_cache_key=YW5vbnltb3VzX3Byb2ZpbGVfcGlj.2-ccb7-4']\n",
      "Number of scraped images\n"
     ]
    }
   ],
   "source": [
    "import time\n",
    "driver.execute_script(\"window.scroll(0, document.body.scrollHeight);\")\n",
    "time.sleep(4)\n",
    "\n",
    "images = driver.find_elements_by_tag_name('img')\n",
    "images = [image.get_attribute('src') for image in images]\n",
    "print(images)\n",
    "\n",
    "print('Number of scraped images')"
   ]
  },
  {
   "cell_type": "code",
   "execution_count": 49,
   "id": "26b03931",
   "metadata": {},
   "outputs": [
    {
     "data": {
      "text/plain": [
       "'C:\\\\Users\\\\Lenovo\\\\Desktop\\\\AI Course\\\\Training\\\\instagram scrapper\\\\lions'"
      ]
     },
     "execution_count": 49,
     "metadata": {},
     "output_type": "execute_result"
    }
   ],
   "source": [
    "import os\n",
    "import wget\n",
    "\n",
    "path = os.getcwd()\n",
    "path = os.path.join(path, keyword[1:] + \"s\")\n",
    "\n",
    "os.mkdir(path)\n",
    "\n",
    "path"
   ]
  },
  {
   "cell_type": "code",
   "execution_count": 50,
   "id": "3c88888d",
   "metadata": {},
   "outputs": [
    {
     "name": "stdout",
     "output_type": "stream",
     "text": [
      "100% [..............................................................................] 28350 / 28350"
     ]
    }
   ],
   "source": [
    "counter = 0\n",
    "for image in images:\n",
    "    save_as = os.path.join(path, keyword[1:] + str(counter) + '.jpg')\n",
    "    wget.download(image, save_as)\n",
    "    counter += 1"
   ]
  },
  {
   "cell_type": "code",
   "execution_count": null,
   "id": "2d137945",
   "metadata": {},
   "outputs": [],
   "source": []
  },
  {
   "cell_type": "code",
   "execution_count": null,
   "id": "cac2f680",
   "metadata": {},
   "outputs": [],
   "source": []
  }
 ],
 "metadata": {
  "kernelspec": {
   "display_name": "Python 3 (ipykernel)",
   "language": "python",
   "name": "python3"
  },
  "language_info": {
   "codemirror_mode": {
    "name": "ipython",
    "version": 3
   },
   "file_extension": ".py",
   "mimetype": "text/x-python",
   "name": "python",
   "nbconvert_exporter": "python",
   "pygments_lexer": "ipython3",
   "version": "3.8.5"
  }
 },
 "nbformat": 4,
 "nbformat_minor": 5
}
